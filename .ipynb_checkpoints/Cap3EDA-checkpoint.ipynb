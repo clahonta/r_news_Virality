{
 "cells": [
  {
   "cell_type": "code",
   "execution_count": 1,
   "id": "hungarian-password",
   "metadata": {},
   "outputs": [],
   "source": [
    "import matplotlib.pyplot as plt\n",
    "import seaborn as sns\n",
    "import requests\n",
    "import pandas as pd\n",
    "from datetime import datetime\n",
    "import numpy as np"
   ]
  },
  {
   "cell_type": "code",
   "execution_count": 2,
   "id": "dramatic-virginia",
   "metadata": {},
   "outputs": [],
   "source": [
    "# we use this function to convert responses to dataframes\n",
    "def df_from_response(res):\n",
    "    # initialize temp dataframe for batch of data in response\n",
    "    df = pd.DataFrame()\n",
    "\n",
    "    # loop through each post pulled from res and append to df\n",
    "    for post in res.json()['data']['children']:\n",
    "        df = df.append({\n",
    "            'subreddit': post['data']['subreddit'],\n",
    "            'title': post['data']['title'],\n",
    "            'selftext': post['data']['selftext'],\n",
    "            'upvote_ratio': post['data']['upvote_ratio'],\n",
    "            'ups': post['data']['ups'],\n",
    "            'downs': post['data']['downs'],\n",
    "            'score': post['data']['score'],\n",
    "            'total_awards_received': post['data']['total_awards_received'],\n",
    "            'num_comments' : post['data']['num_comments'],\n",
    "            'link_flair_css_class': post['data']['link_flair_css_class'],\n",
    "            'created_utc': datetime.fromtimestamp(post['data']['created_utc']).strftime('%Y-%m-%dT%H:%M:%SZ'),\n",
    "            'id': post['data']['id'],\n",
    "            'kind': post['kind']\n",
    "        }, ignore_index=True)\n",
    "\n",
    "    return df\n",
    "\n",
    "# authenticate API\n",
    "client_auth = requests.auth.HTTPBasicAuth('ARq9LWzcl8vmUQ', 'tIyiaaYR_tCUQ_5Vy9XI0bM6N1mj_w')\n",
    "pw = open('pw.txt', 'r')\n",
    "data = {'grant_type': 'password',\n",
    "        'username': 'PGCdev',\n",
    "        'password': pw}\n",
    "\n",
    "headers = {'User-Agent': 'myBot/0.0.1'}\n",
    "\n",
    "# send authentication request for OAuth token\n",
    "res = requests.post('https://www.reddit.com/api/v1/access_token',\n",
    "                    auth=client_auth, data=data, headers=headers)\n",
    "# extract token from response and format correctly\n",
    "token = f\"bearer {res.json()['access_token']}\"\n",
    "# update API headers with authorization (bearer token)\n",
    "headers = {**headers, **{'Authorization': token}}\n",
    "\n",
    "# initialize dataframe and parameters for pulling data in loop\n",
    "data = pd.DataFrame()\n",
    "params = {'limit': 100}\n",
    "\n",
    "# loop through 10 times (returning 1K posts)\n",
    "for i in range(4):\n",
    "    # make request\n",
    "    res = requests.get(\"https://oauth.reddit.com/r/news\",\n",
    "                       headers=headers,\n",
    "                       params=params)\n",
    "\n",
    "    # get dataframe from response\n",
    "    new_df = df_from_response(res)\n",
    "    # take the final row (oldest entry)\n",
    "    row = new_df.iloc[len(new_df)-1]\n",
    "    # create fullname\n",
    "    fullname = row['kind'] + '_' + row['id']\n",
    "    # add/update fullname in params\n",
    "    params['after'] = fullname\n",
    "    \n",
    "    # append new_df to data\n",
    "    data = data.append(new_df, ignore_index=True)"
   ]
  },
  {
   "cell_type": "code",
   "execution_count": 3,
   "id": "plain-module",
   "metadata": {},
   "outputs": [
    {
     "data": {
      "text/html": [
       "<div>\n",
       "<style scoped>\n",
       "    .dataframe tbody tr th:only-of-type {\n",
       "        vertical-align: middle;\n",
       "    }\n",
       "\n",
       "    .dataframe tbody tr th {\n",
       "        vertical-align: top;\n",
       "    }\n",
       "\n",
       "    .dataframe thead th {\n",
       "        text-align: right;\n",
       "    }\n",
       "</style>\n",
       "<table border=\"1\" class=\"dataframe\">\n",
       "  <thead>\n",
       "    <tr style=\"text-align: right;\">\n",
       "      <th></th>\n",
       "      <th>downs</th>\n",
       "      <th>num_comments</th>\n",
       "      <th>score</th>\n",
       "      <th>total_awards_received</th>\n",
       "      <th>ups</th>\n",
       "      <th>upvote_ratio</th>\n",
       "    </tr>\n",
       "  </thead>\n",
       "  <tbody>\n",
       "    <tr>\n",
       "      <th>count</th>\n",
       "      <td>319.0</td>\n",
       "      <td>319.000000</td>\n",
       "      <td>319.000000</td>\n",
       "      <td>319.000000</td>\n",
       "      <td>319.000000</td>\n",
       "      <td>319.000000</td>\n",
       "    </tr>\n",
       "    <tr>\n",
       "      <th>mean</th>\n",
       "      <td>0.0</td>\n",
       "      <td>390.520376</td>\n",
       "      <td>3794.244514</td>\n",
       "      <td>3.059561</td>\n",
       "      <td>3794.244514</td>\n",
       "      <td>0.872633</td>\n",
       "    </tr>\n",
       "    <tr>\n",
       "      <th>std</th>\n",
       "      <td>0.0</td>\n",
       "      <td>1158.605309</td>\n",
       "      <td>11769.584544</td>\n",
       "      <td>14.234102</td>\n",
       "      <td>11769.584544</td>\n",
       "      <td>0.082888</td>\n",
       "    </tr>\n",
       "    <tr>\n",
       "      <th>min</th>\n",
       "      <td>0.0</td>\n",
       "      <td>0.000000</td>\n",
       "      <td>3.000000</td>\n",
       "      <td>0.000000</td>\n",
       "      <td>3.000000</td>\n",
       "      <td>0.530000</td>\n",
       "    </tr>\n",
       "    <tr>\n",
       "      <th>25%</th>\n",
       "      <td>0.0</td>\n",
       "      <td>20.000000</td>\n",
       "      <td>79.500000</td>\n",
       "      <td>0.000000</td>\n",
       "      <td>79.500000</td>\n",
       "      <td>0.830000</td>\n",
       "    </tr>\n",
       "    <tr>\n",
       "      <th>50%</th>\n",
       "      <td>0.0</td>\n",
       "      <td>54.000000</td>\n",
       "      <td>201.000000</td>\n",
       "      <td>0.000000</td>\n",
       "      <td>201.000000</td>\n",
       "      <td>0.890000</td>\n",
       "    </tr>\n",
       "    <tr>\n",
       "      <th>75%</th>\n",
       "      <td>0.0</td>\n",
       "      <td>248.000000</td>\n",
       "      <td>1418.500000</td>\n",
       "      <td>1.000000</td>\n",
       "      <td>1418.500000</td>\n",
       "      <td>0.940000</td>\n",
       "    </tr>\n",
       "    <tr>\n",
       "      <th>max</th>\n",
       "      <td>0.0</td>\n",
       "      <td>13832.000000</td>\n",
       "      <td>73695.000000</td>\n",
       "      <td>159.000000</td>\n",
       "      <td>73695.000000</td>\n",
       "      <td>0.980000</td>\n",
       "    </tr>\n",
       "  </tbody>\n",
       "</table>\n",
       "</div>"
      ],
      "text/plain": [
       "       downs  num_comments         score  total_awards_received           ups  \\\n",
       "count  319.0    319.000000    319.000000             319.000000    319.000000   \n",
       "mean     0.0    390.520376   3794.244514               3.059561   3794.244514   \n",
       "std      0.0   1158.605309  11769.584544              14.234102  11769.584544   \n",
       "min      0.0      0.000000      3.000000               0.000000      3.000000   \n",
       "25%      0.0     20.000000     79.500000               0.000000     79.500000   \n",
       "50%      0.0     54.000000    201.000000               0.000000    201.000000   \n",
       "75%      0.0    248.000000   1418.500000               1.000000   1418.500000   \n",
       "max      0.0  13832.000000  73695.000000             159.000000  73695.000000   \n",
       "\n",
       "       upvote_ratio  \n",
       "count    319.000000  \n",
       "mean       0.872633  \n",
       "std        0.082888  \n",
       "min        0.530000  \n",
       "25%        0.830000  \n",
       "50%        0.890000  \n",
       "75%        0.940000  \n",
       "max        0.980000  "
      ]
     },
     "execution_count": 3,
     "metadata": {},
     "output_type": "execute_result"
    }
   ],
   "source": [
    "data.describe()"
   ]
  },
  {
   "cell_type": "code",
   "execution_count": 4,
   "id": "technical-joint",
   "metadata": {},
   "outputs": [
    {
     "name": "stdout",
     "output_type": "stream",
     "text": [
      "<class 'pandas.core.frame.DataFrame'>\n",
      "RangeIndex: 319 entries, 0 to 318\n",
      "Data columns (total 13 columns):\n",
      " #   Column                 Non-Null Count  Dtype  \n",
      "---  ------                 --------------  -----  \n",
      " 0   created_utc            319 non-null    object \n",
      " 1   downs                  319 non-null    float64\n",
      " 2   id                     319 non-null    object \n",
      " 3   kind                   319 non-null    object \n",
      " 4   link_flair_css_class   6 non-null      object \n",
      " 5   num_comments           319 non-null    float64\n",
      " 6   score                  319 non-null    float64\n",
      " 7   selftext               319 non-null    object \n",
      " 8   subreddit              319 non-null    object \n",
      " 9   title                  319 non-null    object \n",
      " 10  total_awards_received  319 non-null    float64\n",
      " 11  ups                    319 non-null    float64\n",
      " 12  upvote_ratio           319 non-null    float64\n",
      "dtypes: float64(6), object(7)\n",
      "memory usage: 32.5+ KB\n"
     ]
    }
   ],
   "source": [
    "data.info()"
   ]
  },
  {
   "cell_type": "code",
   "execution_count": 5,
   "id": "headed-evans",
   "metadata": {},
   "outputs": [
    {
     "data": {
      "text/html": [
       "<div>\n",
       "<style scoped>\n",
       "    .dataframe tbody tr th:only-of-type {\n",
       "        vertical-align: middle;\n",
       "    }\n",
       "\n",
       "    .dataframe tbody tr th {\n",
       "        vertical-align: top;\n",
       "    }\n",
       "\n",
       "    .dataframe thead th {\n",
       "        text-align: right;\n",
       "    }\n",
       "</style>\n",
       "<table border=\"1\" class=\"dataframe\">\n",
       "  <thead>\n",
       "    <tr style=\"text-align: right;\">\n",
       "      <th></th>\n",
       "      <th>created_utc</th>\n",
       "      <th>downs</th>\n",
       "      <th>id</th>\n",
       "      <th>kind</th>\n",
       "      <th>link_flair_css_class</th>\n",
       "      <th>num_comments</th>\n",
       "      <th>score</th>\n",
       "      <th>selftext</th>\n",
       "      <th>subreddit</th>\n",
       "      <th>title</th>\n",
       "      <th>total_awards_received</th>\n",
       "      <th>ups</th>\n",
       "      <th>upvote_ratio</th>\n",
       "    </tr>\n",
       "  </thead>\n",
       "  <tbody>\n",
       "    <tr>\n",
       "      <th>267</th>\n",
       "      <td>2021-05-10T13:16:52Z</td>\n",
       "      <td>0.0</td>\n",
       "      <td>n9exq0</td>\n",
       "      <td>t3</td>\n",
       "      <td>None</td>\n",
       "      <td>2862.0</td>\n",
       "      <td>73695.0</td>\n",
       "      <td></td>\n",
       "      <td>news</td>\n",
       "      <td>More than 40 attorneys general urge Facebook t...</td>\n",
       "      <td>52.0</td>\n",
       "      <td>73695.0</td>\n",
       "      <td>0.93</td>\n",
       "    </tr>\n",
       "  </tbody>\n",
       "</table>\n",
       "</div>"
      ],
      "text/plain": [
       "              created_utc  downs      id kind link_flair_css_class  \\\n",
       "267  2021-05-10T13:16:52Z    0.0  n9exq0   t3                 None   \n",
       "\n",
       "     num_comments    score selftext subreddit  \\\n",
       "267        2862.0  73695.0               news   \n",
       "\n",
       "                                                 title  total_awards_received  \\\n",
       "267  More than 40 attorneys general urge Facebook t...                   52.0   \n",
       "\n",
       "         ups  upvote_ratio  \n",
       "267  73695.0          0.93  "
      ]
     },
     "execution_count": 5,
     "metadata": {},
     "output_type": "execute_result"
    }
   ],
   "source": [
    "data[data.score == data.score.max()]"
   ]
  },
  {
   "cell_type": "code",
   "execution_count": 6,
   "id": "parliamentary-sheriff",
   "metadata": {},
   "outputs": [
    {
     "data": {
      "text/html": [
       "<div>\n",
       "<style scoped>\n",
       "    .dataframe tbody tr th:only-of-type {\n",
       "        vertical-align: middle;\n",
       "    }\n",
       "\n",
       "    .dataframe tbody tr th {\n",
       "        vertical-align: top;\n",
       "    }\n",
       "\n",
       "    .dataframe thead th {\n",
       "        text-align: right;\n",
       "    }\n",
       "</style>\n",
       "<table border=\"1\" class=\"dataframe\">\n",
       "  <thead>\n",
       "    <tr style=\"text-align: right;\">\n",
       "      <th></th>\n",
       "      <th>created_utc</th>\n",
       "      <th>downs</th>\n",
       "      <th>id</th>\n",
       "      <th>kind</th>\n",
       "      <th>link_flair_css_class</th>\n",
       "      <th>num_comments</th>\n",
       "      <th>score</th>\n",
       "      <th>selftext</th>\n",
       "      <th>subreddit</th>\n",
       "      <th>title</th>\n",
       "      <th>total_awards_received</th>\n",
       "      <th>ups</th>\n",
       "      <th>upvote_ratio</th>\n",
       "    </tr>\n",
       "  </thead>\n",
       "  <tbody>\n",
       "    <tr>\n",
       "      <th>281</th>\n",
       "      <td>2021-05-12T11:30:08Z</td>\n",
       "      <td>0.0</td>\n",
       "      <td>navsd1</td>\n",
       "      <td>t3</td>\n",
       "      <td>None</td>\n",
       "      <td>0.0</td>\n",
       "      <td>3.0</td>\n",
       "      <td></td>\n",
       "      <td>news</td>\n",
       "      <td>N.J. superintendent apologizes for Meir Kahane...</td>\n",
       "      <td>0.0</td>\n",
       "      <td>3.0</td>\n",
       "      <td>0.53</td>\n",
       "    </tr>\n",
       "  </tbody>\n",
       "</table>\n",
       "</div>"
      ],
      "text/plain": [
       "              created_utc  downs      id kind link_flair_css_class  \\\n",
       "281  2021-05-12T11:30:08Z    0.0  navsd1   t3                 None   \n",
       "\n",
       "     num_comments  score selftext subreddit  \\\n",
       "281           0.0    3.0               news   \n",
       "\n",
       "                                                 title  total_awards_received  \\\n",
       "281  N.J. superintendent apologizes for Meir Kahane...                    0.0   \n",
       "\n",
       "     ups  upvote_ratio  \n",
       "281  3.0          0.53  "
      ]
     },
     "execution_count": 6,
     "metadata": {},
     "output_type": "execute_result"
    }
   ],
   "source": [
    "data[data.score == data.score.min()]"
   ]
  },
  {
   "cell_type": "code",
   "execution_count": 7,
   "id": "proprietary-person",
   "metadata": {},
   "outputs": [
    {
     "data": {
      "text/plain": [
       "<AxesSubplot:xlabel='ups', ylabel='Count'>"
      ]
     },
     "execution_count": 7,
     "metadata": {},
     "output_type": "execute_result"
    },
    {
     "data": {
      "image/png": "[encoded data removed]",
      "text/plain": [
       "<Figure size 432x288 with 1 Axes>"
      ]
     },
     "metadata": {
      "needs_background": "light"
     },
     "output_type": "display_data"
    }
   ],
   "source": [
    "# Ups as measure of viral-ness, ups = popularity/sharing/etc\n",
    "# Do downs kill a story? Looks like it\n",
    "\n",
    "sns.histplot(data['ups'], bins = 10)"
   ]
  },
  {
   "cell_type": "code",
   "execution_count": 8,
   "id": "indoor-behalf",
   "metadata": {},
   "outputs": [
    {
     "data": {
      "text/plain": [
       "'2021-05-10T05:39:48Z'"
      ]
     },
     "execution_count": 8,
     "metadata": {},
     "output_type": "execute_result"
    }
   ],
   "source": [
    "data['created_utc'].min()"
   ]
  },
  {
   "cell_type": "code",
   "execution_count": 9,
   "id": "dynamic-palestine",
   "metadata": {},
   "outputs": [
    {
     "data": {
      "text/plain": [
       "<AxesSubplot:xlabel='num_comments', ylabel='Count'>"
      ]
     },
     "execution_count": 9,
     "metadata": {},
     "output_type": "execute_result"
    },
    {
     "data": {
      "image/png": "[encoded data removed]",
      "text/plain": [
       "<Figure size 432x288 with 1 Axes>"
      ]
     },
     "metadata": {
      "needs_background": "light"
     },
     "output_type": "display_data"
    }
   ],
   "source": [
    "# Comments as measure of viral-ness, comments = engagement, free of the positive/negative issue\n",
    "\n",
    "sns.histplot(data['num_comments'], bins = 10)"
   ]
  },
  {
   "cell_type": "code",
   "execution_count": 10,
   "id": "municipal-lunch",
   "metadata": {},
   "outputs": [
    {
     "data": {
      "text/plain": [
       "<AxesSubplot:xlabel='num_comments', ylabel='ups'>"
      ]
     },
     "execution_count": 10,
     "metadata": {},
     "output_type": "execute_result"
    },
    {
     "data": {
      "image/png": "[encoded data removed]",
      "text/plain": [
       "<Figure size 432x288 with 1 Axes>"
      ]
     },
     "metadata": {
      "needs_background": "light"
     },
     "output_type": "display_data"
    }
   ],
   "source": [
    "sns.regplot(x=data['num_comments'], y=data['ups'])"
   ]
  },
  {
   "cell_type": "code",
   "execution_count": 11,
   "id": "several-compiler",
   "metadata": {},
   "outputs": [
    {
     "data": {
      "text/plain": [
       "created_utc                                           2021-05-10T13:16:52Z\n",
       "downs                                                                  0.0\n",
       "id                                                                  n9exq0\n",
       "kind                                                                    t3\n",
       "link_flair_css_class                                                  None\n",
       "num_comments                                                        2862.0\n",
       "score                                                              73695.0\n",
       "selftext                                                                  \n",
       "subreddit                                                             news\n",
       "title                    More than 40 attorneys general urge Facebook t...\n",
       "total_awards_received                                                 52.0\n",
       "ups                                                                73695.0\n",
       "upvote_ratio                                                          0.93\n",
       "Name: 267, dtype: object"
      ]
     },
     "execution_count": 11,
     "metadata": {},
     "output_type": "execute_result"
    }
   ],
   "source": [
    "data.loc[data['ups'].idxmax()]"
   ]
  },
  {
   "cell_type": "code",
   "execution_count": 12,
   "id": "physical-difference",
   "metadata": {},
   "outputs": [
    {
     "data": {
      "text/plain": [
       "created_utc                                           2021-05-13T11:21:28Z\n",
       "downs                                                                  0.0\n",
       "id                                                                  nbnfzc\n",
       "kind                                                                    t3\n",
       "link_flair_css_class                                                  None\n",
       "num_comments                                                       13832.0\n",
       "score                                                              61424.0\n",
       "selftext                                                                  \n",
       "subreddit                                                             news\n",
       "title                    Vaccinated Americans now may go without masks ...\n",
       "total_awards_received                                                147.0\n",
       "ups                                                                61424.0\n",
       "upvote_ratio                                                          0.85\n",
       "Name: 11, dtype: object"
      ]
     },
     "execution_count": 12,
     "metadata": {},
     "output_type": "execute_result"
    }
   ],
   "source": [
    "data.loc[data['num_comments'].idxmax()]"
   ]
  },
  {
   "cell_type": "code",
   "execution_count": null,
   "id": "european-metadata",
   "metadata": {},
   "outputs": [],
   "source": []
  }
 ],
 "metadata": {
  "kernelspec": {
   "display_name": "Python 3",
   "language": "python",
   "name": "python3"
  },
  "language_info": {
   "codemirror_mode": {
    "name": "ipython",
    "version": 3
   },
   "file_extension": ".py",
   "mimetype": "text/x-python",
   "name": "python",
   "nbconvert_exporter": "python",
   "pygments_lexer": "ipython3",
   "version": "3.8.8"
  }
 },
 "nbformat": 4,
 "nbformat_minor": 5
}
