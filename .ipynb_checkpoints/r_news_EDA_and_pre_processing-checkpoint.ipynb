{
 "cells": [
  {
   "cell_type": "code",
   "execution_count": 1,
   "id": "homeless-control",
   "metadata": {},
   "outputs": [],
   "source": [
    "# Imports\n",
    "import numpy as np\n",
    "import pandas as pd\n",
    "import matplotlib.pyplot as plt\n",
    "import seaborn as sns\n",
    "import nltk\n",
    "from langdetect import detect"
   ]
  },
  {
   "cell_type": "code",
   "execution_count": 2,
   "id": "natural-absolute",
   "metadata": {},
   "outputs": [
    {
     "data": {
      "text/html": [
       "<div>\n",
       "<style scoped>\n",
       "    .dataframe tbody tr th:only-of-type {\n",
       "        vertical-align: middle;\n",
       "    }\n",
       "\n",
       "    .dataframe tbody tr th {\n",
       "        vertical-align: top;\n",
       "    }\n",
       "\n",
       "    .dataframe thead th {\n",
       "        text-align: right;\n",
       "    }\n",
       "</style>\n",
       "<table border=\"1\" class=\"dataframe\">\n",
       "  <thead>\n",
       "    <tr style=\"text-align: right;\">\n",
       "      <th></th>\n",
       "      <th>Post ID</th>\n",
       "      <th>Title</th>\n",
       "      <th>Url</th>\n",
       "      <th>Author</th>\n",
       "      <th>Score</th>\n",
       "      <th>Publish Date</th>\n",
       "      <th>Total No. of Comments</th>\n",
       "      <th>Permalink</th>\n",
       "      <th>Flair</th>\n",
       "      <th>duplicate</th>\n",
       "      <th>Engagement</th>\n",
       "    </tr>\n",
       "  </thead>\n",
       "  <tbody>\n",
       "    <tr>\n",
       "      <th>0</th>\n",
       "      <td>lr3xap</td>\n",
       "      <td>Man dies after police kneel on his neck for ne...</td>\n",
       "      <td>https://amp.cnn.com/cnn/2021/02/23/us/angelo-q...</td>\n",
       "      <td>monaleeparis</td>\n",
       "      <td>100226</td>\n",
       "      <td>2021-02-23 20:43:30</td>\n",
       "      <td>17754</td>\n",
       "      <td>/r/news/comments/lr3xap/man_dies_after_police_...</td>\n",
       "      <td>NaN</td>\n",
       "      <td>False</td>\n",
       "      <td>117980</td>\n",
       "    </tr>\n",
       "    <tr>\n",
       "      <th>1</th>\n",
       "      <td>lsmh36</td>\n",
       "      <td>Texan files $1 billion class-action lawsuit af...</td>\n",
       "      <td>https://abcnews.go.com/US/texan-files-billion-...</td>\n",
       "      <td>ACABBLM2020</td>\n",
       "      <td>97551</td>\n",
       "      <td>2021-02-25 17:30:11</td>\n",
       "      <td>14574</td>\n",
       "      <td>/r/news/comments/lsmh36/texan_files_1_billion_...</td>\n",
       "      <td>NaN</td>\n",
       "      <td>False</td>\n",
       "      <td>112125</td>\n",
       "    </tr>\n",
       "    <tr>\n",
       "      <th>2</th>\n",
       "      <td>ls7xmj</td>\n",
       "      <td>Trump tax returns are now in the hands of the ...</td>\n",
       "      <td>https://www.cnbc.com/2021/02/25/trump-tax-retu...</td>\n",
       "      <td>[deleted]</td>\n",
       "      <td>98318</td>\n",
       "      <td>2021-02-25 06:38:18</td>\n",
       "      <td>12719</td>\n",
       "      <td>/r/news/comments/ls7xmj/trump_tax_returns_are_...</td>\n",
       "      <td>NaN</td>\n",
       "      <td>True</td>\n",
       "      <td>111037</td>\n",
       "    </tr>\n",
       "    <tr>\n",
       "      <th>3</th>\n",
       "      <td>laun1r</td>\n",
       "      <td>Minneapolis police officers must keep body cam...</td>\n",
       "      <td>https://www.cnn.com/2021/02/02/us/minneapolis-...</td>\n",
       "      <td>dlkapt3</td>\n",
       "      <td>103302</td>\n",
       "      <td>2021-02-02 04:42:35</td>\n",
       "      <td>7312</td>\n",
       "      <td>/r/news/comments/laun1r/minneapolis_police_off...</td>\n",
       "      <td>NaN</td>\n",
       "      <td>False</td>\n",
       "      <td>110614</td>\n",
       "    </tr>\n",
       "    <tr>\n",
       "      <th>4</th>\n",
       "      <td>lsbgop</td>\n",
       "      <td>Costco lifts minimum wage above Amazon or Targ...</td>\n",
       "      <td>https://www.reuters.com/article/us-costco-whol...</td>\n",
       "      <td>candordirect</td>\n",
       "      <td>99299</td>\n",
       "      <td>2021-02-25 09:11:08</td>\n",
       "      <td>8124</td>\n",
       "      <td>/r/news/comments/lsbgop/costco_lifts_minimum_w...</td>\n",
       "      <td>NaN</td>\n",
       "      <td>False</td>\n",
       "      <td>107423</td>\n",
       "    </tr>\n",
       "  </tbody>\n",
       "</table>\n",
       "</div>"
      ],
      "text/plain": [
       "  Post ID                                              Title  \\\n",
       "0  lr3xap  Man dies after police kneel on his neck for ne...   \n",
       "1  lsmh36  Texan files $1 billion class-action lawsuit af...   \n",
       "2  ls7xmj  Trump tax returns are now in the hands of the ...   \n",
       "3  laun1r  Minneapolis police officers must keep body cam...   \n",
       "4  lsbgop  Costco lifts minimum wage above Amazon or Targ...   \n",
       "\n",
       "                                                 Url        Author   Score  \\\n",
       "0  https://amp.cnn.com/cnn/2021/02/23/us/angelo-q...  monaleeparis  100226   \n",
       "1  https://abcnews.go.com/US/texan-files-billion-...   ACABBLM2020   97551   \n",
       "2  https://www.cnbc.com/2021/02/25/trump-tax-retu...     [deleted]   98318   \n",
       "3  https://www.cnn.com/2021/02/02/us/minneapolis-...       dlkapt3  103302   \n",
       "4  https://www.reuters.com/article/us-costco-whol...  candordirect   99299   \n",
       "\n",
       "          Publish Date  Total No. of Comments  \\\n",
       "0  2021-02-23 20:43:30                  17754   \n",
       "1  2021-02-25 17:30:11                  14574   \n",
       "2  2021-02-25 06:38:18                  12719   \n",
       "3  2021-02-02 04:42:35                   7312   \n",
       "4  2021-02-25 09:11:08                   8124   \n",
       "\n",
       "                                           Permalink Flair  duplicate  \\\n",
       "0  /r/news/comments/lr3xap/man_dies_after_police_...   NaN      False   \n",
       "1  /r/news/comments/lsmh36/texan_files_1_billion_...   NaN      False   \n",
       "2  /r/news/comments/ls7xmj/trump_tax_returns_are_...   NaN       True   \n",
       "3  /r/news/comments/laun1r/minneapolis_police_off...   NaN      False   \n",
       "4  /r/news/comments/lsbgop/costco_lifts_minimum_w...   NaN      False   \n",
       "\n",
       "   Engagement  \n",
       "0      117980  \n",
       "1      112125  \n",
       "2      111037  \n",
       "3      110614  \n",
       "4      107423  "
      ]
     },
     "execution_count": 2,
     "metadata": {},
     "output_type": "execute_result"
    }
   ],
   "source": [
    "# Load dataset\n",
    "\n",
    "data = pd.read_csv('r_news_top_jan_to_may_2021.csv')\n",
    "data = data.drop('Unnamed: 0', axis=1)\n",
    "data.head()"
   ]
  },
  {
   "cell_type": "code",
   "execution_count": 3,
   "id": "spatial-analysis",
   "metadata": {},
   "outputs": [
    {
     "name": "stdout",
     "output_type": "stream",
     "text": [
      "<class 'pandas.core.frame.DataFrame'>\n",
      "RangeIndex: 11240 entries, 0 to 11239\n",
      "Data columns (total 11 columns):\n",
      " #   Column                 Non-Null Count  Dtype \n",
      "---  ------                 --------------  ----- \n",
      " 0   Post ID                11240 non-null  object\n",
      " 1   Title                  11240 non-null  object\n",
      " 2   Url                    11240 non-null  object\n",
      " 3   Author                 11240 non-null  object\n",
      " 4   Score                  11240 non-null  int64 \n",
      " 5   Publish Date           11240 non-null  object\n",
      " 6   Total No. of Comments  11240 non-null  int64 \n",
      " 7   Permalink              11240 non-null  object\n",
      " 8   Flair                  1406 non-null   object\n",
      " 9   duplicate              11240 non-null  bool  \n",
      " 10  Engagement             11240 non-null  int64 \n",
      "dtypes: bool(1), int64(3), object(7)\n",
      "memory usage: 889.2+ KB\n"
     ]
    },
    {
     "data": {
      "text/html": [
       "<div>\n",
       "<style scoped>\n",
       "    .dataframe tbody tr th:only-of-type {\n",
       "        vertical-align: middle;\n",
       "    }\n",
       "\n",
       "    .dataframe tbody tr th {\n",
       "        vertical-align: top;\n",
       "    }\n",
       "\n",
       "    .dataframe thead th {\n",
       "        text-align: right;\n",
       "    }\n",
       "</style>\n",
       "<table border=\"1\" class=\"dataframe\">\n",
       "  <thead>\n",
       "    <tr style=\"text-align: right;\">\n",
       "      <th></th>\n",
       "      <th>Score</th>\n",
       "      <th>Total No. of Comments</th>\n",
       "      <th>Engagement</th>\n",
       "    </tr>\n",
       "  </thead>\n",
       "  <tbody>\n",
       "    <tr>\n",
       "      <th>count</th>\n",
       "      <td>11240.000000</td>\n",
       "      <td>11240.000000</td>\n",
       "      <td>11240.000000</td>\n",
       "    </tr>\n",
       "    <tr>\n",
       "      <th>mean</th>\n",
       "      <td>348.642527</td>\n",
       "      <td>315.755249</td>\n",
       "      <td>664.397776</td>\n",
       "    </tr>\n",
       "    <tr>\n",
       "      <th>std</th>\n",
       "      <td>3859.455582</td>\n",
       "      <td>1137.370254</td>\n",
       "      <td>4369.823990</td>\n",
       "    </tr>\n",
       "    <tr>\n",
       "      <th>min</th>\n",
       "      <td>0.000000</td>\n",
       "      <td>0.000000</td>\n",
       "      <td>10.000000</td>\n",
       "    </tr>\n",
       "    <tr>\n",
       "      <th>25%</th>\n",
       "      <td>1.000000</td>\n",
       "      <td>16.000000</td>\n",
       "      <td>21.000000</td>\n",
       "    </tr>\n",
       "    <tr>\n",
       "      <th>50%</th>\n",
       "      <td>1.000000</td>\n",
       "      <td>40.000000</td>\n",
       "      <td>52.000000</td>\n",
       "    </tr>\n",
       "    <tr>\n",
       "      <th>75%</th>\n",
       "      <td>6.250000</td>\n",
       "      <td>154.000000</td>\n",
       "      <td>192.000000</td>\n",
       "    </tr>\n",
       "    <tr>\n",
       "      <th>max</th>\n",
       "      <td>103302.000000</td>\n",
       "      <td>41107.000000</td>\n",
       "      <td>117980.000000</td>\n",
       "    </tr>\n",
       "  </tbody>\n",
       "</table>\n",
       "</div>"
      ],
      "text/plain": [
       "               Score  Total No. of Comments     Engagement\n",
       "count   11240.000000           11240.000000   11240.000000\n",
       "mean      348.642527             315.755249     664.397776\n",
       "std      3859.455582            1137.370254    4369.823990\n",
       "min         0.000000               0.000000      10.000000\n",
       "25%         1.000000              16.000000      21.000000\n",
       "50%         1.000000              40.000000      52.000000\n",
       "75%         6.250000             154.000000     192.000000\n",
       "max    103302.000000           41107.000000  117980.000000"
      ]
     },
     "execution_count": 3,
     "metadata": {},
     "output_type": "execute_result"
    }
   ],
   "source": [
    "# Basic stats and info\n",
    "data.info()\n",
    "data.describe()"
   ]
  },
  {
   "cell_type": "code",
   "execution_count": 4,
   "id": "meaningful-chosen",
   "metadata": {},
   "outputs": [
    {
     "data": {
      "text/plain": [
       "<AxesSubplot:xlabel='Score', ylabel='Total No. of Comments'>"
      ]
     },
     "execution_count": 4,
     "metadata": {},
     "output_type": "execute_result"
    },
    {
     "data": {
      "image/png": "[encoded data removed]",
      "text/plain": [
       "<Figure size 432x288 with 1 Axes>"
      ]
     },
     "metadata": {
      "needs_background": "light"
     },
     "output_type": "display_data"
    }
   ],
   "source": [
    "# Check relationship between Score and # Comments\n",
    "sns.regplot(x=data.Score, y=data['Total No. of Comments'])"
   ]
  },
  {
   "cell_type": "markdown",
   "id": "charged-transsexual",
   "metadata": {},
   "source": [
    "There are clear outliers in both directions, and a pretty weak positive relationship. Engagement doesn't seem to be useful in aggregate, but is good to set the cutoff for our data set. "
   ]
  },
  {
   "cell_type": "code",
   "execution_count": 5,
   "id": "valuable-sweet",
   "metadata": {},
   "outputs": [],
   "source": [
    "# Add Percentile to the headlines\n",
    "\n",
    "data['score_percentile'] = data.Score.rank(pct=True)\n",
    "data['comments_percentile'] = data['Total No. of Comments'].rank(pct=True)\n"
   ]
  },
  {
   "cell_type": "code",
   "execution_count": 6,
   "id": "identified-success",
   "metadata": {},
   "outputs": [],
   "source": [
    "# Convert percentiles to bands (Top 10, Middle 40, Bottom 50)\n",
    "bands = [(data['score_percentile'] >= .9), (data['score_percentile'] < .9) & (data['score_percentile'] > .5), (data['score_percentile'] <= .5)]\n",
    "values = ['Top 10', 'Middle 40', 'Bottom 50']\n",
    "data['score_band'] = np.select(bands, values)"
   ]
  },
  {
   "cell_type": "code",
   "execution_count": 7,
   "id": "twenty-congress",
   "metadata": {},
   "outputs": [],
   "source": [
    "# Convert percentiles to bands (Top 10, Middle 40, Bottom 50) for comments now\n",
    "bands = [(data['comments_percentile'] >= .9), (data['comments_percentile'] < .9) & (data['comments_percentile'] > .5), (data['comments_percentile'] <= .5)]\n",
    "values = ['Top 10', 'Middle 40', 'Bottom 50']\n",
    "data['comm_band'] = np.select(bands, values)"
   ]
  },
  {
   "cell_type": "code",
   "execution_count": 8,
   "id": "hawaiian-tuesday",
   "metadata": {},
   "outputs": [],
   "source": [
    "# Make data sets for each band\n",
    "data_score_10 = data[data['score_band'] == 'Top 10']\n",
    "data_score_40 = data[data['score_band'] == 'Middle 40']\n",
    "data_score_50 = data[data['score_band'] == 'Bottom 50']\n",
    "data_comm_10 = data[data['comm_band'] == 'Top 10']\n",
    "data_comm_40 = data[data['comm_band'] == 'Middle 40']\n",
    "data_comm_50 = data[data['comm_band'] == 'Bottom 50']"
   ]
  },
  {
   "cell_type": "code",
   "execution_count": 9,
   "id": "funded-poison",
   "metadata": {},
   "outputs": [
    {
     "data": {
      "text/plain": [
       "<AxesSubplot:xlabel='score_band', ylabel='Score'>"
      ]
     },
     "execution_count": 9,
     "metadata": {},
     "output_type": "execute_result"
    },
    {
     "data": {
      "image/png": "[encoded data removed]",
      "text/plain": [
       "<Figure size 1080x1080 with 1 Axes>"
      ]
     },
     "metadata": {
      "needs_background": "light"
     },
     "output_type": "display_data"
    }
   ],
   "source": [
    "plt.figure(figsize=(15,15))\n",
    "sns.boxplot(data=data['Score'], x=data['score_band'], y=data['Score'])"
   ]
  },
  {
   "cell_type": "code",
   "execution_count": 10,
   "id": "enclosed-century",
   "metadata": {},
   "outputs": [
    {
     "data": {
      "text/plain": [
       "<AxesSubplot:xlabel='comm_band', ylabel='Total No. of Comments'>"
      ]
     },
     "execution_count": 10,
     "metadata": {},
     "output_type": "execute_result"
    },
    {
     "data": {
      "image/png": "[encoded data removed]",
      "text/plain": [
       "<Figure size 1080x1080 with 1 Axes>"
      ]
     },
     "metadata": {
      "needs_background": "light"
     },
     "output_type": "display_data"
    }
   ],
   "source": [
    "plt.figure(figsize=(15,15))\n",
    "sns.boxplot(data=data['Total No. of Comments'], x=data['comm_band'], y=data['Total No. of Comments'])"
   ]
  },
  {
   "cell_type": "code",
   "execution_count": 11,
   "id": "utility-tract",
   "metadata": {},
   "outputs": [
    {
     "data": {
      "text/html": [
       "<div>\n",
       "<style scoped>\n",
       "    .dataframe tbody tr th:only-of-type {\n",
       "        vertical-align: middle;\n",
       "    }\n",
       "\n",
       "    .dataframe tbody tr th {\n",
       "        vertical-align: top;\n",
       "    }\n",
       "\n",
       "    .dataframe thead th {\n",
       "        text-align: right;\n",
       "    }\n",
       "</style>\n",
       "<table border=\"1\" class=\"dataframe\">\n",
       "  <thead>\n",
       "    <tr style=\"text-align: right;\">\n",
       "      <th></th>\n",
       "      <th>Score</th>\n",
       "      <th>Total No. of Comments</th>\n",
       "      <th>Engagement</th>\n",
       "      <th>score_percentile</th>\n",
       "      <th>comments_percentile</th>\n",
       "    </tr>\n",
       "  </thead>\n",
       "  <tbody>\n",
       "    <tr>\n",
       "      <th>count</th>\n",
       "      <td>1125.000000</td>\n",
       "      <td>1125.000000</td>\n",
       "      <td>1125.000000</td>\n",
       "      <td>1125.000000</td>\n",
       "      <td>1125.000000</td>\n",
       "    </tr>\n",
       "    <tr>\n",
       "      <th>mean</th>\n",
       "      <td>3446.726222</td>\n",
       "      <td>618.282667</td>\n",
       "      <td>4065.008889</td>\n",
       "      <td>0.950000</td>\n",
       "      <td>0.605679</td>\n",
       "    </tr>\n",
       "    <tr>\n",
       "      <th>std</th>\n",
       "      <td>11758.617313</td>\n",
       "      <td>2032.406284</td>\n",
       "      <td>13014.403668</td>\n",
       "      <td>0.028906</td>\n",
       "      <td>0.288217</td>\n",
       "    </tr>\n",
       "    <tr>\n",
       "      <th>min</th>\n",
       "      <td>47.000000</td>\n",
       "      <td>0.000000</td>\n",
       "      <td>48.000000</td>\n",
       "      <td>0.900445</td>\n",
       "      <td>0.006851</td>\n",
       "    </tr>\n",
       "    <tr>\n",
       "      <th>25%</th>\n",
       "      <td>83.000000</td>\n",
       "      <td>28.000000</td>\n",
       "      <td>129.000000</td>\n",
       "      <td>0.925311</td>\n",
       "      <td>0.410587</td>\n",
       "    </tr>\n",
       "    <tr>\n",
       "      <th>50%</th>\n",
       "      <td>174.000000</td>\n",
       "      <td>83.000000</td>\n",
       "      <td>307.000000</td>\n",
       "      <td>0.950044</td>\n",
       "      <td>0.655160</td>\n",
       "    </tr>\n",
       "    <tr>\n",
       "      <th>75%</th>\n",
       "      <td>914.000000</td>\n",
       "      <td>370.000000</td>\n",
       "      <td>1519.000000</td>\n",
       "      <td>0.975000</td>\n",
       "      <td>0.853069</td>\n",
       "    </tr>\n",
       "    <tr>\n",
       "      <th>max</th>\n",
       "      <td>103302.000000</td>\n",
       "      <td>41107.000000</td>\n",
       "      <td>117980.000000</td>\n",
       "      <td>1.000000</td>\n",
       "      <td>1.000000</td>\n",
       "    </tr>\n",
       "  </tbody>\n",
       "</table>\n",
       "</div>"
      ],
      "text/plain": [
       "               Score  Total No. of Comments     Engagement  score_percentile  \\\n",
       "count    1125.000000            1125.000000    1125.000000       1125.000000   \n",
       "mean     3446.726222             618.282667    4065.008889          0.950000   \n",
       "std     11758.617313            2032.406284   13014.403668          0.028906   \n",
       "min        47.000000               0.000000      48.000000          0.900445   \n",
       "25%        83.000000              28.000000     129.000000          0.925311   \n",
       "50%       174.000000              83.000000     307.000000          0.950044   \n",
       "75%       914.000000             370.000000    1519.000000          0.975000   \n",
       "max    103302.000000           41107.000000  117980.000000          1.000000   \n",
       "\n",
       "       comments_percentile  \n",
       "count          1125.000000  \n",
       "mean              0.605679  \n",
       "std               0.288217  \n",
       "min               0.006851  \n",
       "25%               0.410587  \n",
       "50%               0.655160  \n",
       "75%               0.853069  \n",
       "max               1.000000  "
      ]
     },
     "execution_count": 11,
     "metadata": {},
     "output_type": "execute_result"
    }
   ],
   "source": [
    "# Colossal gap beteen top story's score and bottom story's, even within the band\n",
    "# Consider a 1%/49%,50% split\n",
    "\n",
    "data[data['score_band']=='Top 10'].describe()"
   ]
  },
  {
   "cell_type": "code",
   "execution_count": 12,
   "id": "explicit-amber",
   "metadata": {},
   "outputs": [
    {
     "data": {
      "text/html": [
       "<div>\n",
       "<style scoped>\n",
       "    .dataframe tbody tr th:only-of-type {\n",
       "        vertical-align: middle;\n",
       "    }\n",
       "\n",
       "    .dataframe tbody tr th {\n",
       "        vertical-align: top;\n",
       "    }\n",
       "\n",
       "    .dataframe thead th {\n",
       "        text-align: right;\n",
       "    }\n",
       "</style>\n",
       "<table border=\"1\" class=\"dataframe\">\n",
       "  <thead>\n",
       "    <tr style=\"text-align: right;\">\n",
       "      <th></th>\n",
       "      <th>Score</th>\n",
       "      <th>Total No. of Comments</th>\n",
       "      <th>Engagement</th>\n",
       "      <th>score_percentile</th>\n",
       "      <th>comments_percentile</th>\n",
       "    </tr>\n",
       "  </thead>\n",
       "  <tbody>\n",
       "    <tr>\n",
       "      <th>count</th>\n",
       "      <td>1124.000000</td>\n",
       "      <td>1124.000000</td>\n",
       "      <td>1124.000000</td>\n",
       "      <td>1124.000000</td>\n",
       "      <td>1124.000000</td>\n",
       "    </tr>\n",
       "    <tr>\n",
       "      <th>mean</th>\n",
       "      <td>2977.936833</td>\n",
       "      <td>2399.096085</td>\n",
       "      <td>5377.032918</td>\n",
       "      <td>0.522041</td>\n",
       "      <td>0.950044</td>\n",
       "    </tr>\n",
       "    <tr>\n",
       "      <th>std</th>\n",
       "      <td>11789.048642</td>\n",
       "      <td>2826.336641</td>\n",
       "      <td>12792.881455</td>\n",
       "      <td>0.272968</td>\n",
       "      <td>0.028880</td>\n",
       "    </tr>\n",
       "    <tr>\n",
       "      <th>min</th>\n",
       "      <td>0.000000</td>\n",
       "      <td>631.000000</td>\n",
       "      <td>633.000000</td>\n",
       "      <td>0.005338</td>\n",
       "      <td>0.900089</td>\n",
       "    </tr>\n",
       "    <tr>\n",
       "      <th>25%</th>\n",
       "      <td>1.000000</td>\n",
       "      <td>900.000000</td>\n",
       "      <td>964.750000</td>\n",
       "      <td>0.332028</td>\n",
       "      <td>0.925000</td>\n",
       "    </tr>\n",
       "    <tr>\n",
       "      <th>50%</th>\n",
       "      <td>1.000000</td>\n",
       "      <td>1457.000000</td>\n",
       "      <td>1732.000000</td>\n",
       "      <td>0.332028</td>\n",
       "      <td>0.950000</td>\n",
       "    </tr>\n",
       "    <tr>\n",
       "      <th>75%</th>\n",
       "      <td>13.000000</td>\n",
       "      <td>2809.250000</td>\n",
       "      <td>3900.750000</td>\n",
       "      <td>0.814012</td>\n",
       "      <td>0.975022</td>\n",
       "    </tr>\n",
       "    <tr>\n",
       "      <th>max</th>\n",
       "      <td>103302.000000</td>\n",
       "      <td>41107.000000</td>\n",
       "      <td>117980.000000</td>\n",
       "      <td>1.000000</td>\n",
       "      <td>1.000000</td>\n",
       "    </tr>\n",
       "  </tbody>\n",
       "</table>\n",
       "</div>"
      ],
      "text/plain": [
       "               Score  Total No. of Comments     Engagement  score_percentile  \\\n",
       "count    1124.000000            1124.000000    1124.000000       1124.000000   \n",
       "mean     2977.936833            2399.096085    5377.032918          0.522041   \n",
       "std     11789.048642            2826.336641   12792.881455          0.272968   \n",
       "min         0.000000             631.000000     633.000000          0.005338   \n",
       "25%         1.000000             900.000000     964.750000          0.332028   \n",
       "50%         1.000000            1457.000000    1732.000000          0.332028   \n",
       "75%        13.000000            2809.250000    3900.750000          0.814012   \n",
       "max    103302.000000           41107.000000  117980.000000          1.000000   \n",
       "\n",
       "       comments_percentile  \n",
       "count          1124.000000  \n",
       "mean              0.950044  \n",
       "std               0.028880  \n",
       "min               0.900089  \n",
       "25%               0.925000  \n",
       "50%               0.950000  \n",
       "75%               0.975022  \n",
       "max               1.000000  "
      ]
     },
     "execution_count": 12,
     "metadata": {},
     "output_type": "execute_result"
    }
   ],
   "source": [
    "# Not a dramatic of a gap, but still very high\n",
    "\n",
    "data[data['comm_band']=='Top 10'].describe()"
   ]
  },
  {
   "cell_type": "markdown",
   "id": "considerable-proposition",
   "metadata": {},
   "source": [
    "# Headline Information"
   ]
  },
  {
   "cell_type": "markdown",
   "id": "industrial-messaging",
   "metadata": {},
   "source": [
    "# Words"
   ]
  },
  {
   "cell_type": "code",
   "execution_count": 13,
   "id": "opposed-father",
   "metadata": {},
   "outputs": [],
   "source": [
    "# Create column of word lists and word counts\n",
    "# Correct case of column and eliminate special characters\n",
    "\n",
    "data['title_case_correct'] = data['Title'].str.lower()\n",
    "data['title_case_correct'] = data['title_case_correct'].astype(str).replace('[^a-zA-Z0-9 ]','',regex=True)\n",
    "data['title_words'] = data['title_case_correct'].str.split()"
   ]
  },
  {
   "cell_type": "code",
   "execution_count": 14,
   "id": "smooth-enlargement",
   "metadata": {},
   "outputs": [],
   "source": [
    "# One more col minus stopwords\n",
    "from nltk.corpus import stopwords\n",
    "stop = stopwords.words('english')\n",
    "\n",
    "data['title_words'] = data['title_words'].apply(lambda x: [item for item in x if item not in stop])"
   ]
  },
  {
   "cell_type": "code",
   "execution_count": 20,
   "id": "expected-driving",
   "metadata": {},
   "outputs": [],
   "source": [
    "# Drop rows that are in other languages\n",
    "data['language'] = data['title_case_correct'].apply(detect)\n",
    "data = data[data['language'] == 'en']"
   ]
  },
  {
   "cell_type": "code",
   "execution_count": null,
   "id": "green-frequency",
   "metadata": {},
   "outputs": [],
   "source": [
    "# Keep roots of words via lemmatization\n",
    "\n"
   ]
  }
 ],
 "metadata": {
  "kernelspec": {
   "display_name": "Python 3",
   "language": "python",
   "name": "python3"
  },
  "language_info": {
   "codemirror_mode": {
    "name": "ipython",
    "version": 3
   },
   "file_extension": ".py",
   "mimetype": "text/x-python",
   "name": "python",
   "nbconvert_exporter": "python",
   "pygments_lexer": "ipython3",
   "version": "3.8.8"
  }
 },
 "nbformat": 4,
 "nbformat_minor": 5
}
