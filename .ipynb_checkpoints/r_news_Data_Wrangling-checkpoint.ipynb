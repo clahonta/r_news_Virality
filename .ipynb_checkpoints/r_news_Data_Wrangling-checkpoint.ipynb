{
 "cells": [
  {
   "cell_type": "code",
   "execution_count": 1,
   "id": "certified-alpha",
   "metadata": {},
   "outputs": [],
   "source": [
    "import pandas as pd\n",
    "import numpy as np\n",
    "import datetime as dt"
   ]
  },
  {
   "cell_type": "code",
   "execution_count": 6,
   "id": "legal-cabin",
   "metadata": {},
   "outputs": [
    {
     "name": "stdout",
     "output_type": "stream",
     "text": [
      "<class 'pandas.core.frame.DataFrame'>\n",
      "RangeIndex: 232806 entries, 0 to 232805\n",
      "Data columns (total 12 columns):\n",
      " #   Column                 Non-Null Count   Dtype \n",
      "---  ------                 --------------   ----- \n",
      " 0   Unnamed: 0             232806 non-null  int64 \n",
      " 1   level_0                232806 non-null  int64 \n",
      " 2   index                  232806 non-null  int64 \n",
      " 3   Post ID                232806 non-null  object\n",
      " 4   Title                  232806 non-null  object\n",
      " 5   Url                    232806 non-null  object\n",
      " 6   Author                 232806 non-null  object\n",
      " 7   Score                  232806 non-null  int64 \n",
      " 8   Publish Date           232806 non-null  object\n",
      " 9   Total No. of Comments  232806 non-null  int64 \n",
      " 10  Permalink              232806 non-null  object\n",
      " 11  Flair                  7766 non-null    object\n",
      "dtypes: int64(5), object(7)\n",
      "memory usage: 21.3+ MB\n"
     ]
    }
   ],
   "source": [
    "# Load data\n",
    "\n",
    "data = pd.read_csv('r_news_data.csv')\n",
    "data.info()"
   ]
  },
  {
   "cell_type": "code",
   "execution_count": 7,
   "id": "parental-length",
   "metadata": {},
   "outputs": [
    {
     "data": {
      "text/html": [
       "<div>\n",
       "<style scoped>\n",
       "    .dataframe tbody tr th:only-of-type {\n",
       "        vertical-align: middle;\n",
       "    }\n",
       "\n",
       "    .dataframe tbody tr th {\n",
       "        vertical-align: top;\n",
       "    }\n",
       "\n",
       "    .dataframe thead th {\n",
       "        text-align: right;\n",
       "    }\n",
       "</style>\n",
       "<table border=\"1\" class=\"dataframe\">\n",
       "  <thead>\n",
       "    <tr style=\"text-align: right;\">\n",
       "      <th></th>\n",
       "      <th>Post ID</th>\n",
       "      <th>Title</th>\n",
       "      <th>Url</th>\n",
       "      <th>Author</th>\n",
       "      <th>Score</th>\n",
       "      <th>Publish Date</th>\n",
       "      <th>Total No. of Comments</th>\n",
       "      <th>Permalink</th>\n",
       "      <th>Flair</th>\n",
       "    </tr>\n",
       "  </thead>\n",
       "  <tbody>\n",
       "    <tr>\n",
       "      <th>0</th>\n",
       "      <td>ko10lt</td>\n",
       "      <td>Brexit Becomes Reality As UK Leaves European U...</td>\n",
       "      <td>https://popularnews.in/brexit-becomes-reality-...</td>\n",
       "      <td>popularnewsindia</td>\n",
       "      <td>1</td>\n",
       "      <td>2020-12-31 16:00:01</td>\n",
       "      <td>0</td>\n",
       "      <td>/r/news/comments/ko10lt/brexit_becomes_reality...</td>\n",
       "      <td>NaN</td>\n",
       "    </tr>\n",
       "    <tr>\n",
       "      <th>1</th>\n",
       "      <td>ko10oh</td>\n",
       "      <td>COVID-19 UPDATE: Take-out and Delivery OPEN. N...</td>\n",
       "      <td>https://siliconeer.com/current/raj-palace-rest...</td>\n",
       "      <td>siliconeer</td>\n",
       "      <td>1</td>\n",
       "      <td>2020-12-31 16:00:06</td>\n",
       "      <td>0</td>\n",
       "      <td>/r/news/comments/ko10oh/covid19_update_takeout...</td>\n",
       "      <td>NaN</td>\n",
       "    </tr>\n",
       "    <tr>\n",
       "      <th>2</th>\n",
       "      <td>ko10sx</td>\n",
       "      <td>Lamborghini Huracan STO Teased Ahead Of Debut</td>\n",
       "      <td>https://popularnews.in/lamborghini-huracan-sto...</td>\n",
       "      <td>popularnewsindia</td>\n",
       "      <td>1</td>\n",
       "      <td>2020-12-31 16:00:15</td>\n",
       "      <td>0</td>\n",
       "      <td>/r/news/comments/ko10sx/lamborghini_huracan_st...</td>\n",
       "      <td>NaN</td>\n",
       "    </tr>\n",
       "    <tr>\n",
       "      <th>3</th>\n",
       "      <td>ko11ms</td>\n",
       "      <td>\"It's just utter chaos\": California becomes th...</td>\n",
       "      <td>https://www.cbsnews.com/news/california-become...</td>\n",
       "      <td>Bonboniru</td>\n",
       "      <td>1</td>\n",
       "      <td>2020-12-31 16:01:21</td>\n",
       "      <td>269</td>\n",
       "      <td>/r/news/comments/ko11ms/its_just_utter_chaos_c...</td>\n",
       "      <td>NaN</td>\n",
       "    </tr>\n",
       "    <tr>\n",
       "      <th>4</th>\n",
       "      <td>ko11u9</td>\n",
       "      <td>The Number Theory| A decade of rightward shift...</td>\n",
       "      <td>https://popularnews.in/the-number-theory-a-dec...</td>\n",
       "      <td>popularnewsindia</td>\n",
       "      <td>1</td>\n",
       "      <td>2020-12-31 16:01:38</td>\n",
       "      <td>0</td>\n",
       "      <td>/r/news/comments/ko11u9/the_number_theory_a_de...</td>\n",
       "      <td>NaN</td>\n",
       "    </tr>\n",
       "  </tbody>\n",
       "</table>\n",
       "</div>"
      ],
      "text/plain": [
       "  Post ID                                              Title  \\\n",
       "0  ko10lt  Brexit Becomes Reality As UK Leaves European U...   \n",
       "1  ko10oh  COVID-19 UPDATE: Take-out and Delivery OPEN. N...   \n",
       "2  ko10sx      Lamborghini Huracan STO Teased Ahead Of Debut   \n",
       "3  ko11ms  \"It's just utter chaos\": California becomes th...   \n",
       "4  ko11u9  The Number Theory| A decade of rightward shift...   \n",
       "\n",
       "                                                 Url            Author  Score  \\\n",
       "0  https://popularnews.in/brexit-becomes-reality-...  popularnewsindia      1   \n",
       "1  https://siliconeer.com/current/raj-palace-rest...        siliconeer      1   \n",
       "2  https://popularnews.in/lamborghini-huracan-sto...  popularnewsindia      1   \n",
       "3  https://www.cbsnews.com/news/california-become...         Bonboniru      1   \n",
       "4  https://popularnews.in/the-number-theory-a-dec...  popularnewsindia      1   \n",
       "\n",
       "          Publish Date  Total No. of Comments  \\\n",
       "0  2020-12-31 16:00:01                      0   \n",
       "1  2020-12-31 16:00:06                      0   \n",
       "2  2020-12-31 16:00:15                      0   \n",
       "3  2020-12-31 16:01:21                    269   \n",
       "4  2020-12-31 16:01:38                      0   \n",
       "\n",
       "                                           Permalink Flair  \n",
       "0  /r/news/comments/ko10lt/brexit_becomes_reality...   NaN  \n",
       "1  /r/news/comments/ko10oh/covid19_update_takeout...   NaN  \n",
       "2  /r/news/comments/ko10sx/lamborghini_huracan_st...   NaN  \n",
       "3  /r/news/comments/ko11ms/its_just_utter_chaos_c...   NaN  \n",
       "4  /r/news/comments/ko11u9/the_number_theory_a_de...   NaN  "
      ]
     },
     "execution_count": 7,
     "metadata": {},
     "output_type": "execute_result"
    }
   ],
   "source": [
    "# Drop columns\n",
    "\n",
    "data = data.drop(['Unnamed: 0', 'level_0', 'index'], axis=1)\n",
    "data.head()"
   ]
  },
  {
   "cell_type": "code",
   "execution_count": 13,
   "id": "expired-comedy",
   "metadata": {},
   "outputs": [
    {
     "data": {
      "text/plain": [
       "https://reviewsfund.com/product/buy-trustpilot-reviews/                                                                                      87\n",
       "https://usareviewshop.com/product/buy-verified-cash-app-accounts/                                                                            61\n",
       "https://globalbetaadvisors.com/global-beta-for-financial-advisors/                                                                           32\n",
       "https://cashousenow.com/buy-ssd-chemical-solution-from-cashousenow-com/                                                                      27\n",
       "https://youtube.com/watch?v=5DR932sU_UI&amp;feature=share                                                                                    25\n",
       "                                                                                                                                             ..\n",
       "https://tellygupshup.com/wiki/rini-das-affairs-height-age-net-worth-bio-and-more-2021/?_unique_id=609dde6e6e91c                               1\n",
       "https://houston.craigslist.org/tix/d/indianapolis-final-tickets-for-cheap/7299383952.html                                                     1\n",
       "https://www.washingtonpost.com/politics/inhofe-senate-epa-nominee-confirmation/2021/05/13/fd26f97c-b3ec-11eb-ab43-bebddc5a0f65_story.html     1\n",
       "https://www.ksn.com/news/local/woman-killed-after-being-dragged-by-stolen-vehicle/                                                            1\n",
       "https://kfmx.com/oklahoma-broadcaster-should-be-banned-after-hot-mic-comments/                                                                1\n",
       "Name: Url, Length: 225583, dtype: int64"
      ]
     },
     "execution_count": 13,
     "metadata": {},
     "output_type": "execute_result"
    }
   ],
   "source": [
    "data['Url'].value_counts()"
   ]
  },
  {
   "cell_type": "code",
   "execution_count": null,
   "id": "current-summer",
   "metadata": {},
   "outputs": [],
   "source": []
  }
 ],
 "metadata": {
  "kernelspec": {
   "display_name": "Python 3",
   "language": "python",
   "name": "python3"
  },
  "language_info": {
   "codemirror_mode": {
    "name": "ipython",
    "version": 3
   },
   "file_extension": ".py",
   "mimetype": "text/x-python",
   "name": "python",
   "nbconvert_exporter": "python",
   "pygments_lexer": "ipython3",
   "version": "3.8.8"
  }
 },
 "nbformat": 4,
 "nbformat_minor": 5
}
